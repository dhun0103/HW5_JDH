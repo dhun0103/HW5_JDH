{
 "cells": [
  {
   "cell_type": "code",
   "execution_count": 9,
   "id": "d38619b2",
   "metadata": {},
   "outputs": [
    {
     "name": "stdout",
     "output_type": "stream",
     "text": [
      "*** Annual Temperature Report for Seoul in 2022 ***\n",
      "Day with the Largest Temperature Variation: 2022-11-29\n",
      "Maximum Temperature Difference: 16.6 Celsius\n",
      "Day with the Smallest Temperature Variation: 2022-06-29\n",
      "Minimum Temperature Difference: 1.7 Celsius\n"
     ]
    }
   ],
   "source": [
    "def do():\n",
    "    import csv\n",
    "    f = open('q2.csv')\n",
    "    data = csv.reader(f)\n",
    "    header = next(data)\n",
    "\n",
    "    mx = -999\n",
    "    mn = 999\n",
    "    mx_date = \"\"\n",
    "    mn_date = \"\"\n",
    "\n",
    "    for row in data:\n",
    "        check = 0\n",
    "        for i in range(2,5):\n",
    "            if(row[i] == ''):\n",
    "                check = 1\n",
    "                continue\n",
    "            else:\n",
    "                row[i] = float(row[i])\n",
    "        if (check == 0) :\n",
    "            diff = row[4]-row[3]\n",
    "            if(mx < diff):\n",
    "                mx = diff\n",
    "                mx_date = row[0]\n",
    "            if(mn > diff):\n",
    "                mn = diff\n",
    "                mn_date = row[0]\n",
    "\n",
    "    print(\"*** Annual Temperature Report for Seoul in 2022 ***\")\n",
    "    print(\"Day with the Largest Temperature Variation:\",mx_date)\n",
    "    print(\"Maximum Temperature Difference:\",round(mx,1),\"Celsius\")\n",
    "    print(\"Day with the Smallest Temperature Variation:\",mn_date)\n",
    "    print(\"Minimum Temperature Difference:\",round(mn,1),\"Celsius\")\n",
    "    f.close()   \n",
    "    \n",
    "if __name__ == '__main__':\n",
    "    do()"
   ]
  },
  {
   "cell_type": "code",
   "execution_count": null,
   "id": "605408e3",
   "metadata": {},
   "outputs": [],
   "source": []
  }
 ],
 "metadata": {
  "kernelspec": {
   "display_name": "Python 3 (ipykernel)",
   "language": "python",
   "name": "python3"
  },
  "language_info": {
   "codemirror_mode": {
    "name": "ipython",
    "version": 3
   },
   "file_extension": ".py",
   "mimetype": "text/x-python",
   "name": "python",
   "nbconvert_exporter": "python",
   "pygments_lexer": "ipython3",
   "version": "3.9.12"
  }
 },
 "nbformat": 4,
 "nbformat_minor": 5
}
