{
 "cells": [
  {
   "cell_type": "code",
   "execution_count": 12,
   "id": "b942957f",
   "metadata": {},
   "outputs": [
    {
     "name": "stdout",
     "output_type": "stream",
     "text": [
      "*** Annual Temperature Report for Seoul in 2022 ***\n",
      "Average Temperature: 13.26 Celsius\n",
      "Average Minimum Temperature: 9.21 Celsius\n",
      "Average Maximum Temperature: 18.05 Celsius\n"
     ]
    }
   ],
   "source": [
    "def do():\n",
    "    import csv\n",
    "    f = open('q1.csv')\n",
    "    data = csv.reader(f)\n",
    "    header = next(data)\n",
    "\n",
    "    a_sum = 0\n",
    "    b_sum = 0\n",
    "    c_sum = 0\n",
    "    cnt = 0\n",
    "\n",
    "    for row in data:\n",
    "        check = 0\n",
    "        for i in range(2,5):\n",
    "            if(row[i] == ''):\n",
    "                check = 1\n",
    "                continue\n",
    "            else:\n",
    "                row[i] = float(row[i])\n",
    "        if (check == 0) :\n",
    "            a_sum+=row[2]\n",
    "            b_sum+=row[3]\n",
    "            c_sum+=row[4]\n",
    "            cnt+=1\n",
    "\n",
    "    \n",
    "    a_result = a_sum/cnt\n",
    "    b_result = b_sum/cnt\n",
    "    c_result = c_sum/cnt\n",
    "\n",
    "    print(\"*** Annual Temperature Report for Seoul in 2022 ***\")\n",
    "    print(\"Average Temperature:\",round(a_result,2),\"Celsius\")\n",
    "    print(\"Average Minimum Temperature:\",round(b_result,2),\"Celsius\")\n",
    "    print(\"Average Maximum Temperature:\",round(c_result,2),\"Celsius\")\n",
    "\n",
    "    f.close()   \n",
    "    \n",
    "if __name__ == '__main__':\n",
    "    do()"
   ]
  },
  {
   "cell_type": "code",
   "execution_count": null,
   "id": "7d2291cd",
   "metadata": {},
   "outputs": [],
   "source": []
  }
 ],
 "metadata": {
  "kernelspec": {
   "display_name": "Python 3 (ipykernel)",
   "language": "python",
   "name": "python3"
  },
  "language_info": {
   "codemirror_mode": {
    "name": "ipython",
    "version": 3
   },
   "file_extension": ".py",
   "mimetype": "text/x-python",
   "name": "python",
   "nbconvert_exporter": "python",
   "pygments_lexer": "ipython3",
   "version": "3.9.12"
  }
 },
 "nbformat": 4,
 "nbformat_minor": 5
}
